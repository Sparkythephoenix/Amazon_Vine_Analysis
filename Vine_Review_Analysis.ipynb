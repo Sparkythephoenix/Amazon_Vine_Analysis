{
 "cells": [
  {
   "cell_type": "code",
   "execution_count": null,
   "id": "8147287a",
   "metadata": {},
   "outputs": [],
   "source": [
    "import os\n",
    "# Find the latest version of spark 3.0 from http://www.apache.org/dist/spark/ and enter as the spark version\n",
    "# For example:\n",
    "# spark_version = 'spark-3.0.3'\n",
    "spark_version = 'spark-3.2.0'\n",
    "os.environ['SPARK_VERSION']=spark_version\n",
    "\n",
    "# Install Spark and Java\n",
    "!apt-get update\n",
    "!apt-get install openjdk-11-jdk-headless -qq > /dev/null\n",
    "!wget -q http://www.apache.org/dist/spark/$SPARK_VERSION/$SPARK_VERSION-bin-hadoop2.7.tgz\n",
    "!tar xf $SPARK_VERSION-bin-hadoop2.7.tgz\n",
    "!pip install -q findspark\n",
    "\n",
    "# Set Environment Variables\n",
    "import os\n",
    "os.environ[\"JAVA_HOME\"] = \"/usr/lib/jvm/java-11-openjdk-amd64\"\n",
    "os.environ[\"SPARK_HOME\"] = f\"/content/{spark_version}-bin-hadoop2.7\"\n",
    "\n",
    "# Start a SparkSession\n",
    "import findspark\n",
    "findspark.init()"
   ]
  },
  {
   "cell_type": "code",
   "execution_count": null,
   "id": "9b0590b8",
   "metadata": {},
   "outputs": [],
   "source": [
    "from pyspark.sql import SparkSession\n",
    "spark = SparkSession.builder.appName(\"M16-Amazon-Challenge\").config(\"spark.driver.extraClassPath\",\"/content/postgresql-42.2.16.jar\").getOrCreate()"
   ]
  },
  {
   "cell_type": "code",
   "execution_count": null,
   "id": "6b812fa7",
   "metadata": {},
   "outputs": [],
   "source": [
    "from pyspark import SparkFiles\n",
    "url = \"https://s3.amazonaws.com/amazon-reviews-pds/tsv/amazon_reviews_us_Kitchen_v1_00.tsv.gz\"\n",
    "spark.sparkContext.addFile(url)\n",
    "df = spark.read.option(\"encoding\", \"UTF-8\").csv(SparkFiles.get(\"\"), sep=\"\\t\", header=True, inferSchema=True)\n",
    "df.show()\n",
    "df.columns"
   ]
  },
  {
   "cell_type": "code",
   "execution_count": null,
   "id": "4ad90b34",
   "metadata": {},
   "outputs": [],
   "source": [
    "# Create the vine_table. DataFrame\n",
    "vine_df = df.select([\"review_id\", \"star_rating\", \"helpful_votes\", \"total_votes\", \"vine\", \"verified_purchase\"])\n",
    "vine_df.show()"
   ]
  },
  {
   "cell_type": "code",
   "execution_count": null,
   "id": "a07d6b40",
   "metadata": {},
   "outputs": [],
   "source": [
    "vine_filtered_df = vine_df.filter((vine_df[\"total_votes\"] > 20) & (vine_df[\"helpful_votes\"]/vine_df[\"total_votes\"] > 0.5))\n",
    "vine_filtered_df.show()"
   ]
  },
  {
   "cell_type": "code",
   "execution_count": null,
   "id": "3daa7c50",
   "metadata": {},
   "outputs": [],
   "source": [
    "vine_paid_df = vine_filtered_df.filter(vine_filtered_df[\"vine\"] == \"Y\")\n",
    "vine_paid_df.show()"
   ]
  },
  {
   "cell_type": "code",
   "execution_count": null,
   "id": "e5a5c2cb",
   "metadata": {},
   "outputs": [],
   "source": [
    "vine_unpaid_df = vine_filtered_df.filter(vine_filtered_df[\"vine\"] == \"N\")\n",
    "vine_unpaid_df.show()"
   ]
  },
  {
   "cell_type": "code",
   "execution_count": null,
   "id": "ee3c48b7",
   "metadata": {},
   "outputs": [],
   "source": [
    "vine_paid_df.count()"
   ]
  },
  {
   "cell_type": "code",
   "execution_count": null,
   "id": "327d5b27",
   "metadata": {},
   "outputs": [],
   "source": [
    "vine_unpaid_df.count()"
   ]
  },
  {
   "cell_type": "code",
   "execution_count": null,
   "id": "d96fa272",
   "metadata": {},
   "outputs": [],
   "source": [
    "vine_paid_df.filter(vine_paid_df[\"star_rating\"] == 5).count()"
   ]
  },
  {
   "cell_type": "code",
   "execution_count": null,
   "id": "eb642c25",
   "metadata": {},
   "outputs": [],
   "source": [
    "vine_unpaid_df.filter(vine_paid_df[\"star_rating\"] == 5).count()"
   ]
  },
  {
   "cell_type": "code",
   "execution_count": null,
   "id": "0918152c",
   "metadata": {},
   "outputs": [],
   "source": [
    "(vine_paid_df.filter(vine_paid_df[\"star_rating\"] == 5).count())/(vine_paid_df.count())*100"
   ]
  },
  {
   "cell_type": "code",
   "execution_count": null,
   "id": "e199abc8",
   "metadata": {},
   "outputs": [],
   "source": [
    "(vine_unpaid_df.filter(vine_unpaid_df[\"star_rating\"] == 5).count())/(vine_unpaid_df.count())*100"
   ]
  }
 ],
 "metadata": {
  "kernelspec": {
   "display_name": "Python 3",
   "language": "python",
   "name": "python3"
  },
  "language_info": {
   "codemirror_mode": {
    "name": "ipython",
    "version": 3
   },
   "file_extension": ".py",
   "mimetype": "text/x-python",
   "name": "python",
   "nbconvert_exporter": "python",
   "pygments_lexer": "ipython3",
   "version": "3.8.8"
  }
 },
 "nbformat": 4,
 "nbformat_minor": 5
}
